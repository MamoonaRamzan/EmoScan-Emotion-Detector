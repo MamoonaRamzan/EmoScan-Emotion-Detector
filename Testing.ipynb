{
 "cells": [
  {
   "cell_type": "code",
   "execution_count": 2,
   "id": "3460d87d-a957-497a-a9cd-4095db119f58",
   "metadata": {},
   "outputs": [
    {
     "name": "stderr",
     "output_type": "stream",
     "text": [
      "WARNING:absl:Compiled the loaded model, but the compiled metrics have yet to be built. `model.compile_metrics` will be empty until you train or evaluate the model.\n"
     ]
    },
    {
     "name": "stdout",
     "output_type": "stream",
     "text": [
      "\u001b[1m1/1\u001b[0m \u001b[32m━━━━━━━━━━━━━━━━━━━━\u001b[0m\u001b[37m\u001b[0m \u001b[1m0s\u001b[0m 391ms/step\n",
      "Predicted Emotion: Happy, Confidence: 0.94\n"
     ]
    }
   ],
   "source": [
    "import cv2\n",
    "import numpy as np\n",
    "from tensorflow.keras.models import load_model\n",
    "\n",
    "# Load the saved model\n",
    "model = load_model(\"emotion_recognition_model.h5\")\n",
    "\n",
    "# Define emotion labels (adjust based on your model's output order)\n",
    "emotion_labels = ['Angry', 'Disgust', 'Fear', 'Happy','Neutral', 'Sad', 'Surprise']\n",
    "\n",
    "def predict_emotion(image_path):\n",
    "    # Load the image in grayscale\n",
    "    img = cv2.imread(image_path, cv2.IMREAD_GRAYSCALE)\n",
    "    \n",
    "    # Resize the image to the required input size (48x48)\n",
    "    img = cv2.resize(img, (48, 48))\n",
    "    \n",
    "    # Normalize the image\n",
    "    img = img / 255.0\n",
    "    \n",
    "    # Expand dimensions to match the model's input shape\n",
    "    img = np.expand_dims(img, axis=(0, -1))  # Add batch (0) and channel (-1) dimensions\n",
    "    \n",
    "    # Perform prediction\n",
    "    prediction = model.predict(img)\n",
    "    \n",
    "    # Get the predicted emotion and confidence\n",
    "    emotion = emotion_labels[np.argmax(prediction)]\n",
    "    confidence = np.max(prediction)\n",
    "    \n",
    "    # Print the results\n",
    "    print(f\"Predicted Emotion: {emotion}, Confidence: {confidence:.2f}\")\n",
    "\n",
    "# Example usage\n",
    "predict_emotion(\"D:/ML Project/dataset/test/happy/PrivateTest_1735299.jpg\")\n"
   ]
  },
  {
   "cell_type": "code",
   "execution_count": null,
   "id": "9d858b06-fc6e-42f2-82e0-136bc0c2adad",
   "metadata": {},
   "outputs": [],
   "source": []
  }
 ],
 "metadata": {
  "kernelspec": {
   "display_name": "Python 3 (ipykernel)",
   "language": "python",
   "name": "python3"
  },
  "language_info": {
   "codemirror_mode": {
    "name": "ipython",
    "version": 3
   },
   "file_extension": ".py",
   "mimetype": "text/x-python",
   "name": "python",
   "nbconvert_exporter": "python",
   "pygments_lexer": "ipython3",
   "version": "3.11.7"
  }
 },
 "nbformat": 4,
 "nbformat_minor": 5
}
